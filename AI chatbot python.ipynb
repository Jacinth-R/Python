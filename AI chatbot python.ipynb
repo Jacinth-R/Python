{
 "cells": [
  {
   "cell_type": "code",
   "execution_count": 9,
   "id": "ad973141-2915-4fd9-bf60-2af0a074eec9",
   "metadata": {},
   "outputs": [
    {
     "name": "stderr",
     "output_type": "stream",
     "text": [
      "[nltk_data] Downloading package punkt to\n",
      "[nltk_data]     C:\\Users\\USER\\AppData\\Roaming\\nltk_data...\n",
      "[nltk_data]   Package punkt is already up-to-date!\n",
      "[nltk_data] Downloading package stopwords to\n",
      "[nltk_data]     C:\\Users\\USER\\AppData\\Roaming\\nltk_data...\n",
      "[nltk_data]   Package stopwords is already up-to-date!\n"
     ]
    },
    {
     "name": "stdout",
     "output_type": "stream",
     "text": [
      "Welcome to Python Concepts Chatbot! Ask me anything about Python programming.\n",
      "Type 'exit' to quit.\n"
     ]
    },
    {
     "name": "stdin",
     "output_type": "stream",
     "text": [
      "You:  what is a python\n"
     ]
    },
    {
     "name": "stdout",
     "output_type": "stream",
     "text": [
      "Chatbot: Python is a high-level, interpreted programming language known for its readability and versatility.\n"
     ]
    },
    {
     "name": "stdin",
     "output_type": "stream",
     "text": [
      "You:  what is a list in python\n"
     ]
    },
    {
     "name": "stdout",
     "output_type": "stream",
     "text": [
      "Chatbot: A list in Python is an ordered, mutable collection of items, defined using square brackets, e.g. [1, 2, 3]\n"
     ]
    },
    {
     "name": "stdin",
     "output_type": "stream",
     "text": [
      "You:  exit\n"
     ]
    },
    {
     "name": "stdout",
     "output_type": "stream",
     "text": [
      "Chatbot: Goodbye!\n"
     ]
    }
   ],
   "source": [
    "import nltk\n",
    "from nltk.corpus import stopwords\n",
    "from nltk.tokenize import word_tokenize\n",
    "import string\n",
    "import re\n",
    "\n",
    "# Ensure necessary nltk data is downloaded\n",
    "nltk.download('punkt')\n",
    "nltk.download('stopwords')\n",
    "\n",
    "# Preprocessing function\n",
    "def preprocess(text):\n",
    "    text = text.lower()\n",
    "    text = re.sub(r'[^\\w\\s]', '', text)\n",
    "    tokens = text.split()\n",
    "    stop_words = set(stopwords.words('english'))\n",
    "    filtered_tokens = [w for w in tokens if w not in stop_words]\n",
    "    return filtered_tokens\n",
    "\n",
    "# Simple knowledge base of python programming Q&A\n",
    "knowledge_base = {\n",
    "    \"what is python\": \"Python is a high-level, interpreted programming language known for its readability and versatility.\",\n",
    "    \"how to declare a variable in python\": \"In Python, you simply assign a value to a variable name, for example: x = 5\",\n",
    "    \"what are python data types\": \"Common Python data types include int, float, str, list, tuple, dict, and set.\",\n",
    "    \"how to write a function in python\": \"You define a function using the 'def' keyword, followed by the function name and parentheses, e.g. def my_function():\",\n",
    "    \"what is a list in python\": \"A list in Python is an ordered, mutable collection of items, defined using square brackets, e.g. [1, 2, 3]\",\n",
    "    \"how to use loops in python\": \"Python supports 'for' and 'while' loops. For example: for i in range(5): print(i)\",\n",
    "    \"how to handle exceptions in python\": \"Use try-except blocks for exception handling, e.g. try: <code> except Exception as e: <handle>\",\n",
    "    \"what is a dictionary in python\": \"A dictionary is an unordered collection of key-value pairs, defined with curly braces, e.g. {'key': 'value'}\",\n",
    "    \"how to import modules in python\": \"You can import modules using the 'import' keyword, e.g. import math\",\n",
    "    \"what is a tuple in python\": \"A tuple is an ordered, immutable collection of items, defined with parentheses, e.g. (1, 2, 3)\",\n",
    "    \"how to do list comprehension\": \"List comprehension is a concise way to create lists, e.g. [x for x in range(5)]\",\n",
    "    \"what are python keywords\": \"Keywords are reserved words in Python like if, else, while, for, def, return, etc.\",\n",
    "}\n",
    "\n",
    "def find_best_match(user_tokens):\n",
    "    max_overlap = 0\n",
    "    best_match = None\n",
    "    for question in knowledge_base.keys():\n",
    "        question_tokens = preprocess(question)\n",
    "        overlap = len(set(user_tokens).intersection(set(question_tokens)))\n",
    "        if overlap > max_overlap:\n",
    "            max_overlap = overlap\n",
    "            best_match = question\n",
    "    return best_match\n",
    "\n",
    "def chatbot_response(user_input):\n",
    "    user_tokens = preprocess(user_input)\n",
    "    match = find_best_match(user_tokens)\n",
    "    if match:\n",
    "        return knowledge_base[match]\n",
    "    else:\n",
    "        return \"Sorry, I don't have an answer for that. Can you ask something else about Python?\"\n",
    "\n",
    "def main():\n",
    "    print(\"Welcome to Python Concepts Chatbot! Ask me anything about Python programming.\")\n",
    "    print(\"Type 'exit' to quit.\")\n",
    "    while True:\n",
    "        user_input = input(\"You: \")\n",
    "        if user_input.lower() in ['exit', 'quit', 'bye']:\n",
    "            print(\"Chatbot: Goodbye!\")\n",
    "            break\n",
    "        response = chatbot_response(user_input)\n",
    "        print(\"Chatbot:\", response)\n",
    "\n",
    "if __name__ == \"__main__\":\n",
    "    main()\n"
   ]
  },
  {
   "cell_type": "code",
   "execution_count": null,
   "id": "7d136486-91e4-430b-b72b-818dc8d3b3ff",
   "metadata": {},
   "outputs": [],
   "source": []
  },
  {
   "cell_type": "code",
   "execution_count": null,
   "id": "8a111e37-5a95-4965-8174-ddbcbf7848b9",
   "metadata": {},
   "outputs": [],
   "source": []
  }
 ],
 "metadata": {
  "kernelspec": {
   "display_name": "Python 3 (ipykernel)",
   "language": "python",
   "name": "python3"
  },
  "language_info": {
   "codemirror_mode": {
    "name": "ipython",
    "version": 3
   },
   "file_extension": ".py",
   "mimetype": "text/x-python",
   "name": "python",
   "nbconvert_exporter": "python",
   "pygments_lexer": "ipython3",
   "version": "3.12.1"
  }
 },
 "nbformat": 4,
 "nbformat_minor": 5
}
