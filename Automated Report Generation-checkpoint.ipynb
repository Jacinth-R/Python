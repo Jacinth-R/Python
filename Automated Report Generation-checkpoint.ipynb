{
 "cells": [
  {
   "cell_type": "code",
   "execution_count": 1,
   "id": "28db137d-95de-44c0-9a3c-414eb516f000",
   "metadata": {},
   "outputs": [],
   "source": [
    "import pandas as pd\n",
    "from fpdf import FPDF"
   ]
  },
  {
   "cell_type": "code",
   "execution_count": 2,
   "id": "5d9ba194-fe28-40f9-b7e7-3c3f2af027ae",
   "metadata": {},
   "outputs": [],
   "source": [
    "class PDF(FPDF):\n",
    "    def header(self):\n",
    "        self.set_font('Arial', 'B', 12)\n",
    "        self.cell(0, 10, 'Bitcoin Market Data Report', 0, 1, 'C')\n",
    "\n",
    "    def footer(self):\n",
    "        self.set_y(-15)\n",
    "        self.set_font('Arial', 'I', 8)\n",
    "        self.cell(0, 10, f'Page {self.page_no()}', 0, 0, 'C')"
   ]
  },
  {
   "cell_type": "code",
   "execution_count": 3,
   "id": "8bed04b4-fc56-4656-8fc9-2da95d39d0bd",
   "metadata": {},
   "outputs": [],
   "source": [
    "def load_data(file_path):\n",
    "    \"\"\"\n",
    "    Load Bitcoin market data from an Excel file.\n",
    "    \"\"\"\n",
    "    df = pd.read_excel(file_path)\n",
    "    return df"
   ]
  },
  {
   "cell_type": "code",
   "execution_count": 4,
   "id": "91f2842b-7f4b-4033-b8b2-82d73016afa3",
   "metadata": {},
   "outputs": [],
   "source": [
    "def analyze_data(df):\n",
    "    \"\"\"\n",
    "    Perform basic analysis on the Bitcoin market data.\n",
    "    Returns a dictionary with analysis results.\n",
    "    \"\"\"\n",
    "    analysis_results = {\n",
    "        'Average Price': df['priceOpen'].mean(),\n",
    "        'Total Volume': df['volume'].sum(),\n",
    "        'Max Price': df['priceHigh'].max(),\n",
    "        'Min Price': df['priceLow'].min(),\n",
    "        'Price Standard Deviation': df['priceOpen'].std()\n",
    "    }\n",
    "    return analysis_results"
   ]
  },
  {
   "cell_type": "code",
   "execution_count": 5,
   "id": "ee62ba8a-dda1-4c53-8e7c-6439aa72cb5c",
   "metadata": {},
   "outputs": [],
   "source": [
    "def generate_pdf_report(analysis_results, output_file):\n",
    "    \"\"\"\n",
    "    Generate a PDF report with the analysis results.\n",
    "    \"\"\"\n",
    "    pdf = PDF()\n",
    "    pdf.add_page()\n",
    "    pdf.set_font('Arial', '', 12)\n",
    "\n",
    "    pdf.cell(0, 10, 'Analysis Summary:', 0, 1)\n",
    "    for key, value in analysis_results.items():\n",
    "        pdf.cell(0, 10, f'{key}: {value:.2f}', 0, 1)\n",
    "\n",
    "    pdf.output(output_file)\n",
    "    print(f\"Report generated: {output_file}\")"
   ]
  },
  {
   "cell_type": "code",
   "execution_count": 6,
   "id": "deba8640-0e5a-4f01-84b9-a3222a42a839",
   "metadata": {},
   "outputs": [
    {
     "name": "stdout",
     "output_type": "stream",
     "text": [
      "Loading data...\n"
     ]
    },
    {
     "name": "stderr",
     "output_type": "stream",
     "text": [
      "C:\\Users\\USER\\AppData\\Local\\Programs\\Python\\Python312\\Lib\\site-packages\\openpyxl\\styles\\stylesheet.py:237: UserWarning: Workbook contains no default style, apply openpyxl's default\n",
      "  warn(\"Workbook contains no default style, apply openpyxl's default\")\n"
     ]
    },
    {
     "name": "stdout",
     "output_type": "stream",
     "text": [
      "Analyzing data...\n",
      "Generating PDF report...\n",
      "Report generated: C:\\Users\\USER\\Desktop\\Jaci\\bitcoin_report.pdf\n"
     ]
    }
   ],
   "source": [
    "def main():\n",
    "    file_path = r'C:\\Users\\USER\\Desktop\\Jaci\\bitcoin.xlsx'\n",
    "    output_file = r'C:\\Users\\USER\\Desktop\\Jaci\\bitcoin_report.pdf'\n",
    "\n",
    "    print(\"Loading data...\")\n",
    "    df = load_data(file_path)\n",
    "\n",
    "    print(\"Analyzing data...\")\n",
    "    analysis_results = analyze_data(df)\n",
    "\n",
    "    print(\"Generating PDF report...\")\n",
    "    generate_pdf_report(analysis_results, output_file)\n",
    "\n",
    "if __name__ == \"__main__\":\n",
    "    main()\n"
   ]
  }
 ],
 "metadata": {
  "kernelspec": {
   "display_name": "Python 3 (ipykernel)",
   "language": "python",
   "name": "python3"
  },
  "language_info": {
   "codemirror_mode": {
    "name": "ipython",
    "version": 3
   },
   "file_extension": ".py",
   "mimetype": "text/x-python",
   "name": "python",
   "nbconvert_exporter": "python",
   "pygments_lexer": "ipython3",
   "version": "3.12.1"
  }
 },
 "nbformat": 4,
 "nbformat_minor": 5
}
